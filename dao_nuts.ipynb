{
 "cells": [
  {
   "cell_type": "code",
   "execution_count": 30,
   "metadata": {},
   "outputs": [],
   "source": [
    "from models.oven_db import Oven\n",
    "from services.oven_service import OvenService"
   ]
  },
  {
   "cell_type": "code",
   "execution_count": 31,
   "metadata": {},
   "outputs": [],
   "source": [
    "oven_service = OvenService()"
   ]
  },
  {
   "cell_type": "code",
   "execution_count": null,
   "metadata": {},
   "outputs": [],
   "source": [
    "#Crear un horno\n",
    "oven = Oven(\"Horno 2\", \"Chilecito\")\n",
    "oven_service.create_oven(oven)"
   ]
  },
  {
   "cell_type": "code",
   "execution_count": 26,
   "metadata": {},
   "outputs": [
    {
     "name": "stdout",
     "output_type": "stream",
     "text": [
      "[{'_id': ObjectId('67f3f0fff93c97b2aec11524'), 'oven_id': None, 'name': 'Horno 1', 'location': 'Chilecito', 'created_at': datetime.datetime(2025, 4, 7, 12, 36, 31, 781000)}, {'_id': ObjectId('67f3f1d0f93c97b2aec11525'), 'oven_id': None, 'name': 'Horno 2', 'location': 'Chilecito', 'created_at': datetime.datetime(2025, 4, 7, 12, 40, 0, 217000)}]\n"
     ]
    }
   ],
   "source": [
    "#Obtener todos los hornos disponibles\n",
    "result = oven_service.list_ovens()\n",
    "print(result)"
   ]
  },
  {
   "cell_type": "code",
   "execution_count": 32,
   "metadata": {},
   "outputs": [
    {
     "name": "stdout",
     "output_type": "stream",
     "text": [
      "None\n"
     ]
    }
   ],
   "source": [
    "#Obtener un horno\n",
    "result = oven_service.get_oven(\"67f3f0fff93c97b2aec11524\")\n",
    "print(result)"
   ]
  },
  {
   "cell_type": "code",
   "execution_count": null,
   "metadata": {},
   "outputs": [],
   "source": [
    "#Eliminar un horno\n",
    "oven_service.delete_oven(\"67f3f0fff93c97b2aec11524\")"
   ]
  }
 ],
 "metadata": {
  "kernelspec": {
   "display_name": "venv",
   "language": "python",
   "name": "python3"
  },
  "language_info": {
   "codemirror_mode": {
    "name": "ipython",
    "version": 3
   },
   "file_extension": ".py",
   "mimetype": "text/x-python",
   "name": "python",
   "nbconvert_exporter": "python",
   "pygments_lexer": "ipython3",
   "version": "3.11.9"
  }
 },
 "nbformat": 4,
 "nbformat_minor": 2
}
