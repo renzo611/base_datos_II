{
 "cells": [
  {
   "cell_type": "code",
   "execution_count": 1,
   "metadata": {},
   "outputs": [],
   "source": [
    "from models.oven_db import Oven\n",
    "from services.oven_service import OvenService"
   ]
  },
  {
   "cell_type": "code",
   "execution_count": 2,
   "metadata": {},
   "outputs": [],
   "source": [
    "oven_service = OvenService()"
   ]
  },
  {
   "cell_type": "code",
   "execution_count": null,
   "metadata": {},
   "outputs": [],
   "source": [
    "#Crear un horno\n",
    "oven = Oven(\"Horno 2\", \"Chilecito\")\n",
    "oven_service.create_oven(oven)"
   ]
  },
  {
   "cell_type": "code",
   "execution_count": 7,
   "metadata": {},
   "outputs": [
    {
     "name": "stdout",
     "output_type": "stream",
     "text": [
      "[{'id': '67f3f1d0f93c97b2aec11525', 'name': 'Horno 2'}]\n"
     ]
    }
   ],
   "source": [
    "#Obtener todos los hornos disponibles\n",
    "result = oven_service.list_ovens()\n",
    "print(result)"
   ]
  },
  {
   "cell_type": "code",
   "execution_count": 6,
   "metadata": {},
   "outputs": [
    {
     "name": "stdout",
     "output_type": "stream",
     "text": [
      "None\n"
     ]
    }
   ],
   "source": [
    "#Obtener un horno\n",
    "result = oven_service.get_oven(\"67f3f0fff93c97b2aec11524\")\n",
    "print(result)"
   ]
  },
  {
   "cell_type": "code",
   "execution_count": 5,
   "metadata": {},
   "outputs": [
    {
     "data": {
      "text/plain": [
       "DeleteResult({'n': 1, 'electionId': ObjectId('7fffffff000000000000002a'), 'opTime': {'ts': Timestamp(1744047277, 8), 't': 42}, 'ok': 1.0, '$clusterTime': {'clusterTime': Timestamp(1744047277, 8), 'signature': {'hash': b'(\\xc1\\x19N+&s\\x9a\\xb6\\xd4\\xf6C\\x1ccS\\x0b+O\\xb5\\xee', 'keyId': 7448678712490328069}}, 'operationTime': Timestamp(1744047277, 8)}, acknowledged=True)"
      ]
     },
     "execution_count": 5,
     "metadata": {},
     "output_type": "execute_result"
    }
   ],
   "source": [
    "#Eliminar un horno\n",
    "oven_service.delete_oven(\"67f3f0fff93c97b2aec11524\")"
   ]
  }
 ],
 "metadata": {
  "kernelspec": {
   "display_name": "venv",
   "language": "python",
   "name": "python3"
  },
  "language_info": {
   "codemirror_mode": {
    "name": "ipython",
    "version": 3
   },
   "file_extension": ".py",
   "mimetype": "text/x-python",
   "name": "python",
   "nbconvert_exporter": "python",
   "pygments_lexer": "ipython3",
   "version": "3.11.9"
  }
 },
 "nbformat": 4,
 "nbformat_minor": 2
}
