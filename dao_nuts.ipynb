{
 "cells": [
  {
   "cell_type": "code",
   "execution_count": 1,
   "metadata": {},
   "outputs": [],
   "source": [
    "#Python\n",
    "from datetime import datetime\n",
    "\n",
    "#Models\n",
    "from models.oven_db import Oven\n",
    "from models.nut_batch_db import NutBatch, NutType\n",
    "from models.real_butch_data_db import RealTimeBatchData\n",
    "\n",
    "#Services\n",
    "from services.oven_service import OvenService\n",
    "from services.nut_batch_service import NutBatchService\n",
    "from services.real_batch_service import RealTimeBatchDataService"
   ]
  },
  {
   "cell_type": "code",
   "execution_count": 2,
   "metadata": {},
   "outputs": [],
   "source": [
    "oven_id = \"67f3f1d0f93c97b2aec11525\"\n",
    "oven_service = OvenService()\n",
    "nut_batch_service = NutBatchService()\n",
    "real_batch_service = RealTimeBatchDataService()"
   ]
  },
  {
   "cell_type": "code",
   "execution_count": 3,
   "metadata": {},
   "outputs": [],
   "source": [
    "#Crear un horno\n",
    "oven = Oven(\"Horno 3\", \"Chilecito\")\n",
    "oven_service.create_oven(oven)"
   ]
  },
  {
   "cell_type": "code",
   "execution_count": 4,
   "metadata": {},
   "outputs": [
    {
     "name": "stdout",
     "output_type": "stream",
     "text": [
      "[{'id': '67f3f1d0f93c97b2aec11525', 'name': 'Horno de prueba'}, {'id': '67f3f0fff93c97b2aec11524', 'name': 'Horno de eliminacion'}, {'id': '68096ffadde6e01814b090d7', 'name': 'Horno 3'}]\n"
     ]
    }
   ],
   "source": [
    "#Obtener todos los hornos disponibles\n",
    "result = oven_service.list_ovens()\n",
    "print(result)"
   ]
  },
  {
   "cell_type": "code",
   "execution_count": 5,
   "metadata": {},
   "outputs": [
    {
     "name": "stdout",
     "output_type": "stream",
     "text": [
      "{'_id': ObjectId('67f3f0fff93c97b2aec11524'), 'name': 'Horno de eliminacion', 'location': 'Guanchin'}\n"
     ]
    }
   ],
   "source": [
    "#Obtener un horno\n",
    "result = oven_service.get_oven(\"67f3f0fff93c97b2aec11524\")\n",
    "print(result)"
   ]
  },
  {
   "cell_type": "code",
   "execution_count": 6,
   "metadata": {},
   "outputs": [
    {
     "data": {
      "text/plain": [
       "DeleteResult({'n': 1, 'ok': 1.0}, acknowledged=True)"
      ]
     },
     "execution_count": 6,
     "metadata": {},
     "output_type": "execute_result"
    }
   ],
   "source": [
    "#Eliminar un horno\n",
    "oven_service.delete_oven(\"67f3f0fff93c97b2aec11524\")"
   ]
  },
  {
   "cell_type": "code",
   "execution_count": 7,
   "metadata": {},
   "outputs": [],
   "source": [
    "#Crear un lote de nueces previo al secado\n",
    "nut_batch = NutBatch(\n",
    "    nut_type=NutType.HALF,\n",
    "    initial_weight=50.36,\n",
    "    initial_humidity=36.25,\n",
    "    target_humidity=20.23,\n",
    "    oven_id=\"67f3f1d0f93c97b2aec11525\"\n",
    ")\n",
    "result = nut_batch_service.create_batch(nut_batch)"
   ]
  },
  {
   "cell_type": "code",
   "execution_count": 8,
   "metadata": {},
   "outputs": [
    {
     "name": "stdout",
     "output_type": "stream",
     "text": [
      "\n",
      "Lote ID: 68097005dde6e01814b090d8\n",
      "Tipo de nuez: HALF\n",
      "Horno ID: 67f3f1d0f93c97b2aec11525\n",
      "Estado: IN_PROGRESS\n",
      "\n",
      "Fecha de inicio: 2025-04-23 19:56:05\n",
      "Fecha de fin: —\n",
      "\n",
      "Peso inicial: 50.36 kg\n",
      "Humedad inicial: 36.25%\n",
      "Humedad objetivo: 20.23%\n",
      "\n",
      "Historial de secado: 0 registros\n",
      "\n"
     ]
    }
   ],
   "source": [
    "#Obtener todos los lotes\n",
    "batchs = nut_batch_service.list_batches()\n",
    "\n",
    "\n",
    "for batch in batchs:\n",
    "    print(f\"\"\"\n",
    "Lote ID: {str(batch['_id'])}\n",
    "Tipo de nuez: {batch['nut_type']}\n",
    "Horno ID: {batch['oven_id']}\n",
    "Estado: {batch['status']}\n",
    "\n",
    "Fecha de inicio: {batch['start_date'].strftime('%Y-%m-%d %H:%M:%S')}\n",
    "Fecha de fin: {batch['end_date'].strftime('%Y-%m-%d %H:%M:%S') if batch['end_date'] else '—'}\n",
    "\n",
    "Peso inicial: {batch['initial_weight']} kg\n",
    "Humedad inicial: {batch['initial_humidity']}%\n",
    "Humedad objetivo: {batch['target_humidity']}%\n",
    "\n",
    "Historial de secado: {len(batch.get('drying_history', []))} registros\n",
    "\"\"\")"
   ]
  },
  {
   "cell_type": "code",
   "execution_count": 9,
   "metadata": {},
   "outputs": [],
   "source": [
    "#Insertar datos temporales en redis sobre los lotes\n",
    "batch = nut_batch_service.get_actual_batch_by_oven(oven_id)\n",
    "data = RealTimeBatchData(\n",
    "    batch_id=str(batch[\"_id\"]),\n",
    "    temperature=12,\n",
    "    humidity=17,\n",
    "    weight=10,\n",
    "    gas_consumption=18,\n",
    ")\n",
    "\n",
    "real_batch_service.update_data(data)\n",
    "\n"
   ]
  },
  {
   "cell_type": "code",
   "execution_count": 10,
   "metadata": {},
   "outputs": [
    {
     "name": "stdout",
     "output_type": "stream",
     "text": [
      "Registro #1 Lote: 67f51e064126a6e6cba17bc1 Temperatura: 55°C Humedad: 31% Peso: 13kg Gas consumido: 12 LTimestamp: 2025-04-08 23:20:04\n",
      "Registro #2 Lote: 67f51e064126a6e6cba17bc1 Temperatura: 53°C Humedad: 30% Peso: 12kg Gas consumido: 15 LTimestamp: 2025-04-08 23:20:29\n",
      "Registro #3 Lote: 67f51e064126a6e6cba17bc1 Temperatura: 12°C Humedad: 17% Peso: 10kg Gas consumido: 18 LTimestamp: 2025-04-08 23:27:17\n",
      "Registro #4 Lote: 67f51e064126a6e6cba17bc1 Temperatura: 12°C Humedad: 17% Peso: 10kg Gas consumido: 18 LTimestamp: 2025-04-08 23:27:45\n",
      "Registro #5 Lote: 67f51e064126a6e6cba17bc1 Temperatura: 12°C Humedad: 17% Peso: 10kg Gas consumido: 18 LTimestamp: 2025-04-09 00:06:34\n",
      "Registro #6 Lote: 67f51e064126a6e6cba17bc1 Temperatura: 12°C Humedad: 17% Peso: 10kg Gas consumido: 18 LTimestamp: 2025-04-09 00:08:16\n"
     ]
    }
   ],
   "source": [
    "#Obtener todos los registros temporales para un lote\n",
    "\n",
    "\n",
    "\n",
    "data = real_batch_service.get_all_data(\"67f51e064126a6e6cba17bc1\")\n",
    "for i, d in enumerate(data, start=1):\n",
    "    print(f\"Registro #{i} Lote: {d['batch_id']} Temperatura: {d['temperature']}°C Humedad: {d['humidity']}% Peso: {d['weight']}kg Gas consumido: {d['gas_consumption']} LTimestamp: {datetime.fromisoformat(d['timestamp']).strftime('%Y-%m-%d %H:%M:%S')}\")"
   ]
  },
  {
   "cell_type": "code",
   "execution_count": null,
   "metadata": {},
   "outputs": [
    {
     "name": "stdout",
     "output_type": "stream",
     "text": [
      "UpdateResult({'n': 1, 'nModified': 1, 'ok': 1.0, 'updatedExisting': True}, acknowledged=True)\n"
     ]
    }
   ],
   "source": [
    "#Finalizacion de proceso de secado\n",
    "#Obtiene todos los registros de Redis correspondiente a ese lote de nueces y si supera los targes especificados en la creacion este coloca el lote como finalizado\n",
    "result = nut_batch_service.add_drying_data(oven_id)\n",
    "print(result)"
   ]
  }
 ],
 "metadata": {
  "kernelspec": {
   "display_name": "venv",
   "language": "python",
   "name": "python3"
  },
  "language_info": {
   "codemirror_mode": {
    "name": "ipython",
    "version": 3
   },
   "file_extension": ".py",
   "mimetype": "text/x-python",
   "name": "python",
   "nbconvert_exporter": "python",
   "pygments_lexer": "ipython3",
   "version": "3.11.9"
  }
 },
 "nbformat": 4,
 "nbformat_minor": 2
}
