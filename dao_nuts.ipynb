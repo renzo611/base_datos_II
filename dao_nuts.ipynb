{
 "cells": [
  {
   "cell_type": "code",
   "execution_count": 1,
   "metadata": {},
   "outputs": [],
   "source": [
    "#Models\n",
    "from models.oven_db import Oven\n",
    "from models.nut_batch_db import NutBatch, NutType\n",
    "from models.real_butch_data_db import RealTimeBatchData\n",
    "\n",
    "#Services\n",
    "from services.oven_service import OvenService\n",
    "from services.nut_batch_service import NutBatchService\n",
    "from services.real_batch_service import RealTimeBatchDataService"
   ]
  },
  {
   "cell_type": "code",
   "execution_count": 2,
   "metadata": {},
   "outputs": [],
   "source": [
    "oven_id = \"67f3f1d0f93c97b2aec11525\"\n",
    "oven_service = OvenService()\n",
    "nut_batch_service = NutBatchService()\n",
    "real_batch_service = RealTimeBatchDataService()"
   ]
  },
  {
   "cell_type": "code",
   "execution_count": null,
   "metadata": {},
   "outputs": [],
   "source": [
    "#Crear un horno\n",
    "oven = Oven(\"Horno 2\", \"Chilecito\")\n",
    "oven_service.create_oven(oven)"
   ]
  },
  {
   "cell_type": "code",
   "execution_count": 7,
   "metadata": {},
   "outputs": [
    {
     "name": "stdout",
     "output_type": "stream",
     "text": [
      "[{'id': '67f3f1d0f93c97b2aec11525', 'name': 'Horno 2'}]\n"
     ]
    }
   ],
   "source": [
    "#Obtener todos los hornos disponibles\n",
    "result = oven_service.list_ovens()\n",
    "print(result)"
   ]
  },
  {
   "cell_type": "code",
   "execution_count": 6,
   "metadata": {},
   "outputs": [
    {
     "name": "stdout",
     "output_type": "stream",
     "text": [
      "None\n"
     ]
    }
   ],
   "source": [
    "#Obtener un horno\n",
    "result = oven_service.get_oven(\"67f3f0fff93c97b2aec11524\")\n",
    "print(result)"
   ]
  },
  {
   "cell_type": "code",
   "execution_count": 5,
   "metadata": {},
   "outputs": [
    {
     "data": {
      "text/plain": [
       "DeleteResult({'n': 1, 'electionId': ObjectId('7fffffff000000000000002a'), 'opTime': {'ts': Timestamp(1744047277, 8), 't': 42}, 'ok': 1.0, '$clusterTime': {'clusterTime': Timestamp(1744047277, 8), 'signature': {'hash': b'(\\xc1\\x19N+&s\\x9a\\xb6\\xd4\\xf6C\\x1ccS\\x0b+O\\xb5\\xee', 'keyId': 7448678712490328069}}, 'operationTime': Timestamp(1744047277, 8)}, acknowledged=True)"
      ]
     },
     "execution_count": 5,
     "metadata": {},
     "output_type": "execute_result"
    }
   ],
   "source": [
    "#Eliminar un horno\n",
    "oven_service.delete_oven(\"67f3f0fff93c97b2aec11524\")"
   ]
  },
  {
   "cell_type": "code",
   "execution_count": 4,
   "metadata": {},
   "outputs": [
    {
     "name": "stdout",
     "output_type": "stream",
     "text": [
      "Excepcion Existe una batch en este horno sin completar, por favor finaliza la accion de secado\n"
     ]
    }
   ],
   "source": [
    "#Crear un lote de nueces previo al secado\n",
    "nut_batch = NutBatch(\n",
    "    nut_type=NutType.HALF,\n",
    "    initial_weight=50.36,\n",
    "    initial_humidity=36.25,\n",
    "    target_humidity=20.23,\n",
    "    oven_id=\"67f3f1d0f93c97b2aec11525\"\n",
    ")\n",
    "result = nut_batch_service.create_batch(nut_batch)"
   ]
  },
  {
   "cell_type": "code",
   "execution_count": 5,
   "metadata": {},
   "outputs": [
    {
     "name": "stdout",
     "output_type": "stream",
     "text": [
      "[{'_id': ObjectId('67f51e064126a6e6cba17bc1'), 'nut_type': 'HALF', 'start_date': datetime.datetime(2025, 4, 8, 10, 0, 53, 789000), 'end_date': None, 'initial_weight': 50.36, 'initial_humidity': 36.25, 'target_humidity': 20.23, 'oven_id': '67f3f1d0f93c97b2aec11525', 'drying_history': [], 'status': 'IN_PROGRESS'}]\n"
     ]
    }
   ],
   "source": [
    "#Obtener todos los lotes\n",
    "batchs = nut_batch_service.list_batches()\n",
    "print(batchs)"
   ]
  },
  {
   "cell_type": "code",
   "execution_count": null,
   "metadata": {},
   "outputs": [],
   "source": [
    "#Insertar datos temporales en redis sobre los lotes\n",
    "batch = nut_batch_service.get_actual_batch_by_oven(oven_id)\n",
    "data = RealTimeBatchData(\n",
    "    batch_id=str(batch[\"_id\"]),\n",
    "    temperature=12,\n",
    "    humidity=17,\n",
    "    weight=10,\n",
    "    gas_consumption=18,\n",
    ")\n",
    "\n",
    "real_batch_service.update_data(data)\n",
    "\n"
   ]
  },
  {
   "cell_type": "code",
   "execution_count": 4,
   "metadata": {},
   "outputs": [
    {
     "name": "stdout",
     "output_type": "stream",
     "text": [
      "[{'batch_id': '67f51e064126a6e6cba17bc1', 'temperature': 55, 'humidity': 31, 'weight': 13, 'gas_consumption': 12, 'timestamp': '2025-04-08T23:20:04.904431'}, {'batch_id': '67f51e064126a6e6cba17bc1', 'temperature': 53, 'humidity': 30, 'weight': 12, 'gas_consumption': 15, 'timestamp': '2025-04-08T23:20:29.736722'}, {'batch_id': '67f51e064126a6e6cba17bc1', 'temperature': 12, 'humidity': 17, 'weight': 10, 'gas_consumption': 18, 'timestamp': '2025-04-08T23:27:17.408712'}, {'batch_id': '67f51e064126a6e6cba17bc1', 'temperature': 12, 'humidity': 17, 'weight': 10, 'gas_consumption': 18, 'timestamp': '2025-04-08T23:27:45.257424'}, {'batch_id': '67f51e064126a6e6cba17bc1', 'temperature': 12, 'humidity': 17, 'weight': 10, 'gas_consumption': 18, 'timestamp': '2025-04-09T00:06:34.867247'}, {'batch_id': '67f51e064126a6e6cba17bc1', 'temperature': 12, 'humidity': 17, 'weight': 10, 'gas_consumption': 18, 'timestamp': '2025-04-09T00:08:16.035295'}]\n"
     ]
    }
   ],
   "source": [
    "#Obtener todos los registros temporales para un lote\n",
    "data = real_batch_service.get_all_data(\"67f51e064126a6e6cba17bc1\")\n",
    "print(data)"
   ]
  },
  {
   "cell_type": "code",
   "execution_count": 3,
   "metadata": {},
   "outputs": [
    {
     "name": "stdout",
     "output_type": "stream",
     "text": [
      "20.23 17\n",
      "UpdateResult({'n': 1, 'electionId': ObjectId('7fffffff000000000000002b'), 'opTime': {'ts': Timestamp(1744169538, 4), 't': 43}, 'nModified': 0, 'ok': 1.0, '$clusterTime': {'clusterTime': Timestamp(1744169538, 4), 'signature': {'hash': b'\\x1e\\x8e%,\\xbb\\xadt\\x93?\\\\\\xc6i\\x8e\\xfe\\xae%\\xfa;u\\xeb', 'keyId': 7448678712490328069}}, 'operationTime': Timestamp(1744169538, 4), 'updatedExisting': True}, acknowledged=True)\n"
     ]
    }
   ],
   "source": [
    "#Finalizacion de proceso de secado\n",
    "result = nut_batch_service.add_drying_data(oven_id)\n",
    "print(result)"
   ]
  }
 ],
 "metadata": {
  "kernelspec": {
   "display_name": "venv",
   "language": "python",
   "name": "python3"
  },
  "language_info": {
   "codemirror_mode": {
    "name": "ipython",
    "version": 3
   },
   "file_extension": ".py",
   "mimetype": "text/x-python",
   "name": "python",
   "nbconvert_exporter": "python",
   "pygments_lexer": "ipython3",
   "version": "3.11.9"
  }
 },
 "nbformat": 4,
 "nbformat_minor": 2
}
